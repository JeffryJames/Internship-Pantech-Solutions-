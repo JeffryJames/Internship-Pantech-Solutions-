{
  "nbformat": 4,
  "nbformat_minor": 0,
  "metadata": {
    "colab": {
      "name": "Stock_Prediction_Using_Support_Vector_Regression.ipynb",
      "provenance": [],
      "collapsed_sections": []
    },
    "kernelspec": {
      "name": "python3",
      "display_name": "Python 3"
    },
    "language_info": {
      "name": "python"
    }
  },
  "cells": [
    {
      "cell_type": "code",
      "metadata": {
        "colab": {
          "base_uri": "https://localhost:8080/"
        },
        "id": "YBHJQQZUWdjt",
        "outputId": "a5788729-fa83-4414-dc52-8a1e7028822d"
      },
      "source": [
        "import pandas as pd\n",
        "import numpy as np\n",
        "dataset = pd.read_csv(\"/content/data.csv\")\n",
        "print(dataset)\n",
        "\n",
        "print(dataset.shape)\n",
        "print(dataset.head(5))\n",
        "\n",
        "X = dataset.iloc[:, :-1].values\n",
        "Y = dataset.iloc[:, -1].values\n",
        "\n",
        "from sklearn.model_selection import train_test_split\n",
        "X_train,X_test,y_train,y_test = train_test_split(X,Y,test_size=0.20,random_state=0)\n",
        "\n",
        "\n",
        "from sklearn.svm import SVR\n",
        "model = SVR()\n",
        "model.fit(X_train,y_train)\n",
        "\n",
        "y_pred = model.predict(X_test)\n",
        "\n",
        "from sklearn.metrics import r2_score,mean_squared_error\n",
        "mse = mean_squared_error(y_test,y_pred)\n",
        "\n",
        "rmse=np.sqrt(mse)\n",
        "print(\"Root Mean Square Error:\",rmse)\n",
        "\n",
        "r2score = r2_score(y_test,y_pred)\n",
        "print(\"R2Score\",r2score*100)"
      ],
      "execution_count": 1,
      "outputs": [
        {
          "output_type": "stream",
          "text": [
            "              x           y\n",
            "0    168.181818  160.840244\n",
            "1    187.878788  159.413657\n",
            "2    207.575758  157.136809\n",
            "3    227.272727  159.357847\n",
            "4    246.969697  157.542862\n",
            "..          ...         ...\n",
            "89  1921.212121  172.285091\n",
            "90  1940.909091  176.001331\n",
            "91  1960.606061  176.128171\n",
            "92  1980.303030  175.813257\n",
            "93  2000.000000  175.530826\n",
            "\n",
            "[94 rows x 2 columns]\n",
            "(94, 2)\n",
            "            x           y\n",
            "0  168.181818  160.840244\n",
            "1  187.878788  159.413657\n",
            "2  207.575758  157.136809\n",
            "3  227.272727  159.357847\n",
            "4  246.969697  157.542862\n",
            "Root Mean Square Error: 2.35947188444521\n",
            "R2Score 86.64242653738361\n"
          ],
          "name": "stdout"
        }
      ]
    }
  ]
}