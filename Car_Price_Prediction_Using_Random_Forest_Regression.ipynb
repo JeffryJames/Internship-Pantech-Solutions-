{
  "nbformat": 4,
  "nbformat_minor": 0,
  "metadata": {
    "colab": {
      "name": "Car_Price_Prediction_Using_Random_Forest_Regression.ipynb",
      "provenance": [],
      "collapsed_sections": []
    },
    "kernelspec": {
      "name": "python3",
      "display_name": "Python 3"
    },
    "language_info": {
      "name": "python"
    }
  },
  "cells": [
    {
      "cell_type": "code",
      "metadata": {
        "colab": {
          "base_uri": "https://localhost:8080/"
        },
        "id": "ySVBgNsbdeIf",
        "outputId": "c9a4e62f-b3c0-4078-946b-654f08590c6e"
      },
      "source": [
        "import pandas as pd\n",
        "import numpy as np\n",
        "\n",
        "data = pd.read_csv(\"/content/dataset.csv\")\n",
        "data = data.drop([\"car_ID\"],axis=1)\n",
        "\n",
        "print(data.shape)\n",
        "print(data.head())\n",
        "\n",
        "\"\"\"### *Splitting Dataset into X & Y*\n",
        "### *This X contains Both Numerical & Text Data*\n",
        "\"\"\"\n",
        "\n",
        "Xdata = data.drop('price',axis='columns')\n",
        "numericalCols=Xdata.select_dtypes(exclude=['object']).columns\n",
        "X=Xdata[numericalCols]\n",
        "print(X)\n",
        "\n",
        "y = data['price']\n",
        "print(y)\n",
        "\n",
        "\"\"\"### *Scaling the Independent Variables (Features)*\"\"\"\n",
        "\n",
        "from sklearn.preprocessing import scale\n",
        "cols = X.columns\n",
        "X = pd.DataFrame(scale(X))\n",
        "X.columns = cols\n",
        "X\n",
        "\n",
        "from sklearn.model_selection import train_test_split\n",
        "X_train,X_test,y_train,y_test = train_test_split(X, y,test_size = 0.25,random_state =0)\n",
        "\n",
        "from sklearn.ensemble import RandomForestRegressor \n",
        "model = RandomForestRegressor()\n",
        "model.fit(X_train,y_train)\n",
        "\n",
        "#Evaluating Model\n",
        "\n",
        "y_pred = model.predict(X_test)\n",
        "\n",
        "from sklearn.metrics import r2_score\n",
        "r2s = r2_score(y_test, y_pred)\n",
        "print(\"R2 Score\",r2s * 100)\n",
        "\n",
        "\n",
        "\n",
        "\n"
      ],
      "execution_count": 1,
      "outputs": [
        {
          "output_type": "stream",
          "text": [
            "(205, 25)\n",
            "   symboling                   CarName fueltype  ... citympg highwaympg    price\n",
            "0          3        alfa-romero giulia      gas  ...      21         27  13495.0\n",
            "1          3       alfa-romero stelvio      gas  ...      21         27  16500.0\n",
            "2          1  alfa-romero Quadrifoglio      gas  ...      19         26  16500.0\n",
            "3          2               audi 100 ls      gas  ...      24         30  13950.0\n",
            "4          2                audi 100ls      gas  ...      18         22  17450.0\n",
            "\n",
            "[5 rows x 25 columns]\n",
            "     symboling  wheelbase  carlength  ...  peakrpm  citympg  highwaympg\n",
            "0            3       88.6      168.8  ...     5000       21          27\n",
            "1            3       88.6      168.8  ...     5000       21          27\n",
            "2            1       94.5      171.2  ...     5000       19          26\n",
            "3            2       99.8      176.6  ...     5500       24          30\n",
            "4            2       99.4      176.6  ...     5500       18          22\n",
            "..         ...        ...        ...  ...      ...      ...         ...\n",
            "200         -1      109.1      188.8  ...     5400       23          28\n",
            "201         -1      109.1      188.8  ...     5300       19          25\n",
            "202         -1      109.1      188.8  ...     5500       18          23\n",
            "203         -1      109.1      188.8  ...     4800       26          27\n",
            "204         -1      109.1      188.8  ...     5400       19          25\n",
            "\n",
            "[205 rows x 14 columns]\n",
            "0      13495.0\n",
            "1      16500.0\n",
            "2      16500.0\n",
            "3      13950.0\n",
            "4      17450.0\n",
            "        ...   \n",
            "200    16845.0\n",
            "201    19045.0\n",
            "202    21485.0\n",
            "203    22470.0\n",
            "204    22625.0\n",
            "Name: price, Length: 205, dtype: float64\n",
            "R2 Score 91.36610483001924\n"
          ],
          "name": "stdout"
        }
      ]
    }
  ]
}