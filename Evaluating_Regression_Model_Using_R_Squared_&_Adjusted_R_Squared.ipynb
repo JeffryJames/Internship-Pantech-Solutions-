{
  "nbformat": 4,
  "nbformat_minor": 0,
  "metadata": {
    "colab": {
      "name": "Evaluating Regression Model Using R-Squared & Adjusted R-Squared.ipynb",
      "provenance": [],
      "collapsed_sections": []
    },
    "kernelspec": {
      "name": "python3",
      "display_name": "Python 3"
    },
    "language_info": {
      "name": "python"
    }
  },
  "cells": [
    {
      "cell_type": "code",
      "metadata": {
        "colab": {
          "base_uri": "https://localhost:8080/",
          "height": 463
        },
        "id": "C85_45NNpYR6",
        "outputId": "488eeb54-5c13-494d-cc99-a82e6b20914e"
      },
      "source": [
        "import pandas as pd\n",
        "from sklearn.linear_model import LinearRegression \n",
        "import matplotlib.pyplot as plt\n",
        "\n",
        "\n",
        "dataset = pd.read_csv('/content/dataset1.csv')\n",
        "\n",
        "\"\"\"### *Load Summarize*\"\"\"\n",
        "\n",
        "print(dataset.shape)\n",
        "print(dataset.head(5))\n",
        "\n",
        "\"\"\"### *Visualize Dataset*\"\"\"\n",
        "\n",
        "plt.xlabel('area')\n",
        "plt.ylabel('price')\n",
        "plt.scatter(dataset.area,dataset.price,color='red',marker='*')\n",
        "\n",
        "\"\"\"### *Segregate Dataset into Input X & Output Y*\"\"\"\n",
        "\n",
        "X = dataset.drop('price',axis='columns')\n",
        "X\n",
        "\n",
        "Y = dataset.price\n",
        "Y\n",
        "\n",
        "\"\"\"### *Splitting Dataset for Testing our Model*\"\"\"\n",
        "\n",
        "from sklearn.model_selection import train_test_split\n",
        "x_train,x_test,y_train,y_test = train_test_split(X,Y,test_size=0.20,random_state=0)\n",
        "\n",
        "\"\"\"### *Training Dataset using Linear Regression*\"\"\"\n",
        "\n",
        "model = LinearRegression()\n",
        "model.fit(x_train,y_train)\n",
        "\n",
        "\"\"\"### *Visualizing Linear Regression results*\"\"\"\n",
        "\n",
        "plt.scatter(X,Y, color=\"red\",marker='*')\n",
        "plt.plot(X, model.predict(X))\n",
        "plt.title(\"Linear Regression\")\n",
        "plt.xlabel(\"Area\")\n",
        "plt.ylabel(\"Price\")\n",
        "plt.show()\n",
        "\n",
        "\"\"\"R Squared = 1- (SSR/SST)\n",
        "\n",
        "where,\n",
        "SSR = Sum of Squared Residuals\n",
        "\n",
        "SST = Sum of Squared Total\n",
        "\n",
        "Adjusted R Squared= 1 — [(1 — R Squared) * ((n-1) / (n-p-1))]\n",
        "\n",
        "### *R-Squared Score*\n",
        "\"\"\"\n",
        "\n",
        "rsquared = model.score(x_test, y_test)\n",
        "print(rsquared)\n",
        "\n",
        "\"\"\"### *Adjusted R Squared of the Model*\"\"\"\n",
        "\n",
        "n=len(dataset) #Length of Total dataset\n",
        "p=len(dataset.columns)-1 #length of Features\n",
        "adjr= 1-(1-rsquared)*(n-1)/(n-p-1)\n",
        "print(adjr)\n",
        "\n",
        "\"\"\"### *Prediction*\"\"\"\n",
        "\n",
        "x=6500\n",
        "LandAreainSqFt=[[x]]\n",
        "PredictedmodelResult = model.predict(LandAreainSqFt)\n",
        "print(PredictedmodelResult)"
      ],
      "execution_count": 1,
      "outputs": [
        {
          "output_type": "stream",
          "text": [
            "(10, 2)\n",
            "   area  price\n",
            "0  1000   2245\n",
            "1  2000   4575\n",
            "2  3000   6874\n",
            "3  4000   8878\n",
            "4  5000  10589\n"
          ],
          "name": "stdout"
        },
        {
          "output_type": "display_data",
          "data": {
            "image/png": "[encoded data removed]",
            "text/plain": [
              "<Figure size 432x288 with 1 Axes>"
            ]
          },
          "metadata": {
            "tags": [],
            "needs_background": "light"
          }
        },
        {
          "output_type": "stream",
          "text": [
            "0.9980555305079885\n",
            "0.997812471821487\n",
            "[13687.72504892]\n"
          ],
          "name": "stdout"
        }
      ]
    }
  ]
}