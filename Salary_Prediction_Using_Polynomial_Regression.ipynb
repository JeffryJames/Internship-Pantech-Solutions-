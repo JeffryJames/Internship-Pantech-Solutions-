{
  "nbformat": 4,
  "nbformat_minor": 0,
  "metadata": {
    "colab": {
      "name": "Salary_Prediction_Using_Polynomial_Regression.ipynb",
      "provenance": [],
      "collapsed_sections": []
    },
    "kernelspec": {
      "name": "python3",
      "display_name": "Python 3"
    },
    "language_info": {
      "name": "python"
    }
  },
  "cells": [
    {
      "cell_type": "code",
      "metadata": {
        "colab": {
          "base_uri": "https://localhost:8080/",
          "height": 909
        },
        "id": "66EWflo_HzDq",
        "outputId": "5fa30140-f747-48db-99ed-5769a6609ff4"
      },
      "source": [
        "import pandas as pd\n",
        "\n",
        "dataset = pd.read_csv('/content/dataset.csv')\n",
        "\n",
        "print(dataset.shape)\n",
        "print(dataset.head(5))\n",
        "\n",
        "\n",
        "X = dataset.iloc[:, :-1].values\n",
        "print(X)\n",
        "\n",
        "Y = dataset.iloc[:, -1].values\n",
        "print(Y)\n",
        "\n",
        "from sklearn.linear_model import LinearRegression\n",
        "modelLR = LinearRegression()\n",
        "modelLR.fit(X,Y)\n",
        "\n",
        "\"\"\"### *Visualizing Linear Regression results*\"\"\"\n",
        "\n",
        "import matplotlib.pyplot as plt\n",
        "plt.scatter(X,Y, color=\"red\")\n",
        "plt.plot(X, modelLR.predict(X))\n",
        "plt.title(\"Linear Regression\")\n",
        "plt.xlabel(\"Level\")\n",
        "plt.ylabel(\"Salary\")\n",
        "plt.show()\n",
        "\n",
        "\"\"\"### *fit() - Training Model - Calculating the initial parameters*\n",
        "\n",
        "### *transform() - After Training we gonna transform Data by using above calculated values*\n",
        "\n",
        "### *fit_transform() - First fit & Transform*\n",
        "\n",
        "###*Convert X to Polynomial Format (X^n)*\n",
        "###*n-degree*\n",
        "###*n=2 consist x & x^2*\n",
        "###*n=3 consist x & x^2 & x^3*\n",
        "\"\"\"\n",
        "\n",
        "from sklearn.preprocessing import PolynomialFeatures\n",
        "modelPR = PolynomialFeatures(degree = 20)\n",
        "xPoly = modelPR.fit_transform(X)\n",
        "\n",
        "\"\"\"###*Train same Linear Regression with X-Polynomial instead of X*\"\"\"\n",
        "\n",
        "modelPLR = LinearRegression()\n",
        "modelPLR.fit(xPoly,Y)\n",
        "\n",
        "\"\"\"### *Visualizing Polynomial Regression results*\"\"\"\n",
        "\n",
        "plt.scatter(X,Y, color=\"red\")\n",
        "plt.plot(X, modelPLR.predict(modelPR.fit_transform(X)))\n",
        "plt.title(\"Polynomial Regression\")\n",
        "plt.xlabel(\"Level\")\n",
        "plt.ylabel(\"Salary\")\n",
        "plt.show()\n",
        "\n",
        "\"\"\"### *Prediction using Polynomial Regression*\"\"\"\n",
        "\n",
        "x=5\n",
        "salaryPred = modelPLR.predict(modelPR.fit_transform([[x]]))\n",
        "print('Salary of a person with Level {0} is {1}'.format(x,salaryPred))"
      ],
      "execution_count": 1,
      "outputs": [
        {
          "output_type": "stream",
          "text": [
            "(10, 2)\n",
            "   Level  Salary\n",
            "0      1   45000\n",
            "1      2   50000\n",
            "2      3   60000\n",
            "3      4   80000\n",
            "4      5  110000\n",
            "[[ 1]\n",
            " [ 2]\n",
            " [ 3]\n",
            " [ 4]\n",
            " [ 5]\n",
            " [ 6]\n",
            " [ 7]\n",
            " [ 8]\n",
            " [ 9]\n",
            " [10]]\n",
            "[  45000   50000   60000   80000  110000  150000  200000  300000  500000\n",
            " 1000000]\n"
          ],
          "name": "stdout"
        },
        {
          "output_type": "display_data",
          "data": {
            "image/png": "[encoded data removed]",
            "text/plain": [
              "<Figure size 432x288 with 1 Axes>"
            ]
          },
          "metadata": {
            "tags": [],
            "needs_background": "light"
          }
        },
        {
          "output_type": "display_data",
          "data": {
            "image/png": "[encoded data removed]",
            "text/plain": [
              "<Figure size 432x288 with 1 Axes>"
            ]
          },
          "metadata": {
            "tags": [],
            "needs_background": "light"
          }
        },
        {
          "output_type": "stream",
          "text": [
            "Salary of a person with Level 5 is [109876.94664198]\n"
          ],
          "name": "stdout"
        }
      ]
    }
  ]
}