{
  "nbformat": 4,
  "nbformat_minor": 0,
  "metadata": {
    "colab": {
      "name": "Digit_Recognition_Using_Random_Forest_Classification.ipynb",
      "provenance": [],
      "collapsed_sections": []
    },
    "kernelspec": {
      "name": "python3",
      "display_name": "Python 3"
    },
    "language_info": {
      "name": "python"
    }
  },
  "cells": [
    {
      "cell_type": "code",
      "metadata": {
        "colab": {
          "base_uri": "https://localhost:8080/",
          "height": 886
        },
        "id": "U_dF9YhE61tA",
        "outputId": "619fed35-e011-41b8-88eb-c1b88e2a9c8c"
      },
      "source": [
        "import pandas as pd\n",
        "import numpy as np\n",
        "\n",
        "data = pd.read_csv(\"/content/digit.csv\")\n",
        "print(data.head(5))\n",
        "print(data.shape)\n",
        "\n",
        "\n",
        "# Segregating X and Y\n",
        "\n",
        "X = data.iloc[:,1:]\n",
        "print(X)\n",
        "\n",
        "y = data.iloc[:,0]\n",
        "print(y)\n",
        "\n",
        "#Splitting Train and Test\n",
        "\n",
        "from sklearn.model_selection import train_test_split\n",
        "X_train, X_test, y_train, y_test = train_test_split(X,y, test_size= 0.20, random_state = 0 )\n",
        "\n",
        "# Training\n",
        "from sklearn.ensemble import RandomForestClassifier\n",
        "regressor = RandomForestClassifier(n_estimators=100,random_state=0)\n",
        "regressor.fit(X_train, y_train)\n",
        "\n",
        "#prediction \n",
        "y_pred = regressor.predict(X_test)\n",
        "\n",
        "# Validating\n",
        "from sklearn.metrics import accuracy_score\n",
        "acc = print(\"Accuracy of the Model is {}%\".format(accuracy_score(y_test, y_pred)*100))\n",
        "\n",
        "\n",
        "# Visualizing the Accuracy ....... Change Index to verify other numbers\n",
        "\n",
        "import matplotlib.pyplot as plt\n",
        "index = 17\n",
        "print(\"predicted\"+str(regressor.predict(X_test)[index]))\n",
        "plt.axis('off')\n",
        "plt.imshow(X_test.iloc[index].values.reshape((28,28)),cmap='gray')\n",
        "\n"
      ],
      "execution_count": 3,
      "outputs": [
        {
          "output_type": "stream",
          "text": [
            "   label  pixel0  pixel1  pixel2  ...  pixel780  pixel781  pixel782  pixel783\n",
            "0      1       0       0       0  ...         0         0         0         0\n",
            "1      0       0       0       0  ...         0         0         0         0\n",
            "2      1       0       0       0  ...         0         0         0         0\n",
            "3      4       0       0       0  ...         0         0         0         0\n",
            "4      0       0       0       0  ...         0         0         0         0\n",
            "\n",
            "[5 rows x 785 columns]\n",
            "(42000, 785)\n",
            "       pixel0  pixel1  pixel2  pixel3  ...  pixel780  pixel781  pixel782  pixel783\n",
            "0           0       0       0       0  ...         0         0         0         0\n",
            "1           0       0       0       0  ...         0         0         0         0\n",
            "2           0       0       0       0  ...         0         0         0         0\n",
            "3           0       0       0       0  ...         0         0         0         0\n",
            "4           0       0       0       0  ...         0         0         0         0\n",
            "...       ...     ...     ...     ...  ...       ...       ...       ...       ...\n",
            "41995       0       0       0       0  ...         0         0         0         0\n",
            "41996       0       0       0       0  ...         0         0         0         0\n",
            "41997       0       0       0       0  ...         0         0         0         0\n",
            "41998       0       0       0       0  ...         0         0         0         0\n",
            "41999       0       0       0       0  ...         0         0         0         0\n",
            "\n",
            "[42000 rows x 784 columns]\n",
            "0        1\n",
            "1        0\n",
            "2        1\n",
            "3        4\n",
            "4        0\n",
            "        ..\n",
            "41995    0\n",
            "41996    1\n",
            "41997    7\n",
            "41998    6\n",
            "41999    9\n",
            "Name: label, Length: 42000, dtype: int64\n",
            "Accuracy of the Model is 96.46428571428571%\n",
            "predicted5\n"
          ],
          "name": "stdout"
        },
        {
          "output_type": "execute_result",
          "data": {
            "text/plain": [
              "<matplotlib.image.AxesImage at 0x7fe34cd70550>"
            ]
          },
          "metadata": {
            "tags": []
          },
          "execution_count": 3
        },
        {
          "output_type": "display_data",
          "data": {
            "image/png": "[encoded data removed]",
            "text/plain": [
              "<Figure size 432x288 with 1 Axes>"
            ]
          },
          "metadata": {
            "tags": [],
            "needs_background": "light"
          }
        }
      ]
    }
  ]
}